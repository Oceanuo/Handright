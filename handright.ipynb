{
  "nbformat": 4,
  "nbformat_minor": 0,
  "metadata": {
    "colab": {
      "provenance": []
    },
    "kernelspec": {
      "name": "python3",
      "display_name": "Python 3"
    },
    "language_info": {
      "name": "python"
    }
  },
  "cells": [
    {
      "cell_type": "code",
      "execution_count": null,
      "metadata": {
        "colab": {
          "base_uri": "https://localhost:8080/"
        },
        "id": "5wmPGd3VQ8uz",
        "outputId": "86299025-0228-47cd-9393-71dd7352d0a5"
      },
      "outputs": [
        {
          "output_type": "stream",
          "name": "stdout",
          "text": [
            "Requirement already satisfied: handright in /usr/local/lib/python3.10/dist-packages (8.2.0)\n",
            "Requirement already satisfied: pillow<11,>=8.3.2 in /usr/local/lib/python3.10/dist-packages (from handright) (9.4.0)\n"
          ]
        }
      ],
      "source": [
        "pip install handright"
      ]
    },
    {
      "cell_type": "code",
      "source": [
        "from PIL import Image, ImageFont\n",
        "from handright import Template, handwrite\n",
        "import os\n",
        "\n",
        "text = \"\"\"\n",
        "**Mom, I Love You**\n",
        "\n",
        "Mom, I want to take a moment to tell you just how much you mean to me. From the very first moment I opened my eyes, you were there, showering me with love and warmth. Your hugs have always felt like the safest place in the world.\n",
        "\n",
        "Growing up, I remember how you stayed up late helping me with my homework, cheering me on at every game and performance, and comforting me when things didn’t go my way. Your patience and understanding showed me the true meaning of love. You taught me to be kind, to work hard, and to always believe in myself.\n",
        "\n",
        "Even now, as I navigate life’s ups and downs, your wisdom and support guide me. You are my role model and my biggest cheerleader. I admire your strength and the way you handle challenges with grace. Your laughter can brighten the darkest days, and your smile has a way of making everything feel right.\n",
        "\n",
        "Thank you for all the sacrifices you've made, the lessons you’ve taught, and the endless love you’ve given. I love you more than words can express. You are not just my mother; you are my friend and my inspiration. I am so grateful to have you in my life.\n",
        "\n",
        "Mom, I love you more than you will ever know. Thank you for being you.\n",
        "\"\"\"\n",
        "template = Template(\n",
        "    background=Image.new(mode=\"1\", size=(5000, 5000), color=1),\n",
        "    font=ImageFont.truetype(r\"/content/Bo Le Locust Tree Handwriting Pen Chinese Font-Simplified Chinese Fonts.ttf\", size=100),\n",
        ")\n",
        "images = handwrite(text, template)\n",
        "for i, im in enumerate(images):\n",
        "    assert isinstance(im, Image.Image)\n",
        "    im.show()\n",
        "\n",
        "    # Save the image in the current working directory\n",
        "    current_path = os.getcwd()\n",
        "    image_filename = f\"handwritten_image_{i+1}.png\"\n",
        "    image_path = os.path.join(current_path, image_filename)\n",
        "    im.save(image_path)\n",
        "    print(f\"Image saved at: {image_path}\")"
      ],
      "metadata": {
        "id": "DTiXm7txRABW",
        "colab": {
          "base_uri": "https://localhost:8080/"
        },
        "outputId": "c6666c0c-9e6b-49f6-dcb9-21937ede873a"
      },
      "execution_count": 31,
      "outputs": [
        {
          "output_type": "stream",
          "name": "stdout",
          "text": [
            "Image saved at: /content/handwritten_image_1.png\n",
            "Image saved at: /content/handwritten_image_2.png\n",
            "Image saved at: /content/handwritten_image_3.png\n",
            "Image saved at: /content/handwritten_image_4.png\n",
            "Image saved at: /content/handwritten_image_5.png\n"
          ]
        }
      ]
    }
  ]
}